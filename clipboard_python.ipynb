{
 "cells": [
  {
   "cell_type": "code",
   "execution_count": 39,
   "id": "eb37e16f-33be-4de3-938c-709456583bac",
   "metadata": {},
   "outputs": [],
   "source": [
    "import subprocess\n",
    "import re\n",
    "\n",
    "def get_clipboard_data():\n",
    "    p = subprocess.Popen(['pbpaste'], stdout=subprocess.PIPE)\n",
    "    return p.stdout.read().decode('utf-8')\n",
    "\n",
    "def set_clipboard_data(data):\n",
    "    p = subprocess.Popen(['pbcopy'], stdin=subprocess.PIPE)\n",
    "    p.communicate(input=data.encode('utf-8'))"
   ]
  },
  {
   "cell_type": "code",
   "execution_count": 40,
   "id": "367f6475-d8f5-4fd8-89b7-b20cb47cb2a5",
   "metadata": {},
   "outputs": [],
   "source": [
    "def convert_table(table_html):\n",
    "    # Convert HTML table to Markdown table\n",
    "    rows = re.findall(r'<tr>(.*?)</tr>', table_html, flags=re.DOTALL)\n",
    "    if not rows:\n",
    "        return ''\n",
    "    \n",
    "    markdown_rows = []\n",
    "    header_cells = re.findall(r'<th>(.*?)</th>', rows[0], flags=re.DOTALL)\n",
    "    if header_cells:\n",
    "        markdown_rows.append('| ' + ' | '.join(header_cells) + ' |')\n",
    "        markdown_rows.append('| ' + ' | '.join(['---'] * len(header_cells)) + ' |')\n",
    "        rows = rows[1:]\n",
    "    \n",
    "    for row in rows:\n",
    "        cells = re.findall(r'<td>(.*?)</td>', row, flags=re.DOTALL)\n",
    "        if cells:\n",
    "            markdown_rows.append('| ' + ' | '.join(cells) + ' |')\n",
    "    \n",
    "    return '\\\\n'.join(markdown_rows) + '\\\\n\\\\n'"
   ]
  },
  {
   "cell_type": "code",
   "execution_count": 41,
   "id": "f91e0d6f-df45-4074-aaf1-e9dff63601fc",
   "metadata": {},
   "outputs": [],
   "source": [
    "def convert_to_markdown():\n",
    "    # Get text from clipboard\n",
    "    text = get_clipboard_data()\n",
    "    \n",
    "    # Pre-process: remove newlines between tags\n",
    "    text = re.sub(r'>\\s*\\n\\s*<', '><', text)\n",
    "    \n",
    "    # Convert headers (h1 to h6)\n",
    "    text = re.sub(r'<h([1-6])>(.*?)</h\\1>', lambda m: '#' * int(m.group(1)) + ' ' + m.group(2) + '\\\\n\\\\n', text)\n",
    "    \n",
    "    # Convert code blocks\n",
    "    text = re.sub(r'<pre><code>(.*?)</code></pre>', lambda m: '```\\\\n' + m.group(1) + '\\\\n```\\\\n\\\\n', text, flags=re.DOTALL)\n",
    "    text = re.sub(r'<code>(.*?)</code>', r'`\\\\1`', text)\n",
    "    \n",
    "    # Convert bold\n",
    "    text = re.sub(r'<(?:b|strong)>(.*?)</(?:b|strong)>', r'**\\\\1**', text)\n",
    "    \n",
    "    # Convert italic\n",
    "    text = re.sub(r'<(?:i|em)>(.*?)</(?:i|em)>', r'*\\\\1*', text)\n",
    "    \n",
    "    # Convert links\n",
    "    text = re.sub(r'<a href=\"(.*?)\".*?>(.*?)</a>', r'[\\\\2](\\\\1)', text)\n",
    "    \n",
    "    # Convert tables\n",
    "    text = re.sub(r'<table>(.*?)</table>', lambda m: convert_table(m.group(1)), text, flags=re.DOTALL)\n",
    "    \n",
    "    # Convert unordered lists\n",
    "    text = re.sub(r'<ul>(.*?)</ul>', lambda m: m.group(1), text, flags=re.DOTALL)\n",
    "    text = re.sub(r'<li>(.*?)</li>', r'- \\\\1\\\\n', text)\n",
    "    \n",
    "    # Convert ordered lists\n",
    "    text = re.sub(r'<ol>(.*?)</ol>', lambda m: m.group(1), text, flags=re.DOTALL)\n",
    "    text = re.sub(r'<li>(.*?)</li>', r'1. \\\\1\\\\n', text)\n",
    "    \n",
    "    # Convert blockquotes\n",
    "    text = re.sub(r'<blockquote>(.*?)</blockquote>', lambda m: '> ' + m.group(1).replace('\\\\n', '\\\\n> ') + '\\\\n\\\\n', text, flags=re.DOTALL)\n",
    "    \n",
    "    # Convert paragraphs\n",
    "    text = re.sub(r'<p>(.*?)</p>', r'\\\\1\\\\n\\\\n', text)\n",
    "    \n",
    "    # Convert line breaks\n",
    "    text = re.sub(r'<br\\\\s*/?>', r'\\\\n', text)\n",
    "    \n",
    "    # Remove remaining HTML tags\n",
    "    text = re.sub(r'<[^>]+>', '', text)\n",
    "    \n",
    "    # Clean up extra whitespace\n",
    "    text = re.sub(r'\\\\n\\\\s*\\\\n', '\\\\n\\\\n', text)\n",
    "    text = text.strip()\n",
    "    \n",
    "    # Copy converted text back to clipboard\n",
    "    set_clipboard_data(text)\n",
    "    return text"
   ]
  },
  {
   "cell_type": "code",
   "execution_count": 42,
   "id": "3037ec17-b051-4261-ad1a-3b5b31d0d9a4",
   "metadata": {},
   "outputs": [
    {
     "name": "stdout",
     "output_type": "stream",
     "text": [
      "Text converted to Markdown and copied to clipboard:\n",
      "--------------------------------------------------\n"
     ]
    }
   ],
   "source": [
    "# Test the conversion\n",
    "result = convert_to_markdown()\n",
    "print(\"Text converted to Markdown and copied to clipboard:\")\n",
    "print(\"-\" * 50)\n",
    "print(result)"
   ]
  },
  {
   "cell_type": "code",
   "execution_count": null,
   "id": "5df8cd2b-eaf2-4d4c-aa4e-5ea44deafc7a",
   "metadata": {},
   "outputs": [],
   "source": []
  },
  {
   "cell_type": "code",
   "execution_count": null,
   "id": "84d9c729-9002-4fb6-9b71-e4c1cadf4ab0",
   "metadata": {},
   "outputs": [],
   "source": []
  }
 ],
 "metadata": {
  "kernelspec": {
   "display_name": "Python [conda env:base] *",
   "language": "python",
   "name": "conda-base-py"
  },
  "language_info": {
   "codemirror_mode": {
    "name": "ipython",
    "version": 3
   },
   "file_extension": ".py",
   "mimetype": "text/x-python",
   "name": "python",
   "nbconvert_exporter": "python",
   "pygments_lexer": "ipython3",
   "version": "3.12.7"
  }
 },
 "nbformat": 4,
 "nbformat_minor": 5
}
